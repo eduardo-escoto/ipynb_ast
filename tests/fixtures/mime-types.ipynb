{
  "cells": [
    {
      "cell_type": "code",
      "execution_count": 1,
      "metadata": {},
      "outputs": [
        {
          "output_type": "display_data",
          "data": {
            "application/vnd.plotly.v1+json": {
              "data": [{"x": [1, 2, 3], "y": [4, 5, 6], "type": "scatter"}],
              "layout": {"title": "Plotly Chart"}
            },
            "text/html": [
              "<div>Plotly Chart</div>"
            ]
          },
          "metadata": {}
        }
      ],
      "source": [
        "import plotly.graph_objects as go"
      ]
    },
    {
      "cell_type": "code",
      "execution_count": 2,
      "metadata": {},
      "outputs": [
        {
          "output_type": "display_data",
          "data": {
            "application/vnd.vegalite.v4+json": {
              "mark": "bar",
              "data": {"values": [{"a": "A", "b": 28}]}
            }
          },
          "metadata": {}
        }
      ],
      "source": [
        "import altair as alt"
      ]
    },
    {
      "cell_type": "code",
      "execution_count": 3,
      "metadata": {},
      "outputs": [
        {
          "output_type": "display_data",
          "data": {
            "application/vnd.jupyter.widget-view+json": {
              "model_id": "abc123",
              "version_major": 2,
              "version_minor": 0
            },
            "text/plain": [
              "IntSlider(value=50)"
            ]
          },
          "metadata": {}
        }
      ],
      "source": [
        "import ipywidgets as widgets"
      ]
    },
    {
      "cell_type": "code",
      "execution_count": 4,
      "metadata": {},
      "outputs": [
        {
          "output_type": "display_data",
          "data": {
            "text/latex": [
              "$E = mc^2$"
            ],
            "text/plain": [
              "E = mc^2"
            ]
          },
          "metadata": {}
        }
      ],
      "source": [
        "from IPython.display import Latex"
      ]
    }
  ],
  "metadata": {
    "kernelspec": {
      "display_name": "Python 3",
      "language": "python",
      "name": "python3"
    },
    "language_info": {
      "name": "python",
      "version": "3.9.0"
    }
  },
  "nbformat": 4,
  "nbformat_minor": 4
}
